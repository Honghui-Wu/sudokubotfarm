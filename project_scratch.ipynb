{
 "cells": [
  {
   "cell_type": "code",
   "execution_count": 2,
   "id": "f3428640",
   "metadata": {},
   "outputs": [
    {
     "name": "stdout",
     "output_type": "stream",
     "text": [
      "8\n",
      "0\n"
     ]
    }
   ],
   "source": [
    "## Code to import scraped sudoku png file;\n",
    "# splice into 9 individual boxes; \n",
    "# create 3x3x9 tensor of integers; \n",
    "# build model to fill integers and correctly solve puzzle \n",
    "from PIL import Image\n",
    "import cv2\n",
    "import pytesseract\n",
    "import numpy as np\n",
    "\n",
    "\n",
    "imgfile = Image.open(\"tmp_image.png\")\n",
    "\n",
    "#first creating 9 copies of the image to individually crop\n",
    "\n",
    "def nine_split(imgfile):\n",
    "    \n",
    "    box_vec = [imgfile.copy() for _ in range(9)] #creates a list of 9 copies of the image\n",
    "    crop_vec = []                                #preallocates new list for cropped images\n",
    "    tl_x = 7\n",
    "    tl_y = 0       # setting approximate pixel divisons/locations for crop function\n",
    "    br_x = 92\n",
    "    br_y = 87\n",
    "    x_space = 85\n",
    "    y_space = 87\n",
    "    \n",
    "\n",
    "    for i, seg in enumerate(box_vec):\n",
    "      cropseg = seg.crop((tl_x,tl_y,br_x,br_y))  #crops current copy of each image and appends to new list\n",
    "      crop_vec.append(cropseg)\n",
    "      tl_x += x_space   \n",
    "      br_x += x_space  \n",
    "      if i==2 or i==5:\n",
    "         tl_x = 7           #changing deliminters to iterate through whole sudoku image\n",
    "         br_x = 92\n",
    "         tl_y += y_space\n",
    "         br_y += y_space\n",
    "      \n",
    "\n",
    "    return crop_vec\n",
    "\n",
    "\n",
    "def digit_read(crop_vec):\n",
    "   #Iterating through list of images and creating tensor of digits \n",
    "   unslvd_tensor = [[[0 for _ in range(9)] for _ in range(3)] for _ in range(3)]\n",
    "\n",
    "   for i,seg in enumerate(crop_vec):\n",
    "      #Converting image from PIL (png) to CV format\n",
    "      crop_cv = cv2.cvtColor(np.array(seg), cv2.COLOR_RGB2BGR)\n",
    "      #Preprocess image to gray scale, threshold it and invert it\n",
    "      gray = cv2.cvtColor(crop_cv, cv2.COLOR_BGR2GRAY)\n",
    "      thresh = cv2.threshold(gray, 0, 255, cv2.THRESH_BINARY_INV + cv2.THRESH_OTSU)[1]\n",
    "\n",
    "      #Run tesseract OCR to read the digits \n",
    "      digit_config = r'--oem 3 --psm 10 -c tessedit_char_whitelist=0123456789'\n",
    "      text = pytesseract.image_to_string(thresh, config=digit_config).strip()\n",
    "\n",
    "      #Read and store results\n",
    "      if text.isdigit():\n",
    "         print(int(text))\n",
    "         print(i)\n",
    "      else:\n",
    "        print(\"failure to read\\n\")\n",
    "         \n",
    "      return crop_cv\n",
    "      \n",
    "\n",
    "\n",
    "\n",
    "crop_vec = nine_split(imgfile)\n",
    "crop_cv = digit_read(crop_vec)\n",
    "\n",
    "#for i,seg in enumerate(crop_vec):   #checking boxes are split correctly; may need to hit Ctrl+C afterward if your terminal freaks out\n",
    "#   seg.show()"
   ]
  }
 ],
 "metadata": {
  "kernelspec": {
   "display_name": "Python 3",
   "language": "python",
   "name": "python3"
  },
  "language_info": {
   "codemirror_mode": {
    "name": "ipython",
    "version": 3
   },
   "file_extension": ".py",
   "mimetype": "text/x-python",
   "name": "python",
   "nbconvert_exporter": "python",
   "pygments_lexer": "ipython3",
   "version": "3.10.18"
  }
 },
 "nbformat": 4,
 "nbformat_minor": 5
}
